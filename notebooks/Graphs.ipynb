{
 "cells": [
  {
   "cell_type": "code",
   "execution_count": null,
   "metadata": {},
   "outputs": [],
   "source": [
    "import numpy as np\n",
    "import os\n",
    "import pandas as pd\n",
    "import plotly.express as px\n",
    "import plotly.graph_objects as go\n",
    "from plotly.subplots import make_subplots"
   ]
  },
  {
   "cell_type": "code",
   "execution_count": null,
   "metadata": {},
   "outputs": [],
   "source": [
    "df = pd.read_csv(os.path.join('..', 'mundus', 'data', 'mundus_article_2020.csv'), encoding='ISO-8859-1', sep=';')\n",
    "df['date'] = pd.to_datetime(df['date'])\n",
    "df.sort_values('views', ascending=False, inplace=True)\n",
    "df.fillna('Divers', inplace=True)\n",
    "df['count'] = 1\n",
    "df.head()"
   ]
  },
  {
   "cell_type": "code",
   "execution_count": null,
   "metadata": {},
   "outputs": [],
   "source": [
    "len(df)"
   ]
  },
  {
   "cell_type": "markdown",
   "metadata": {},
   "source": [
    "# Jeu"
   ]
  },
  {
   "cell_type": "code",
   "execution_count": null,
   "metadata": {},
   "outputs": [],
   "source": [
    "len(df['game'].unique())"
   ]
  },
  {
   "cell_type": "code",
   "execution_count": null,
   "metadata": {},
   "outputs": [],
   "source": [
    "df2 = df.groupby('game_type').sum()\n",
    "\n",
    "fig = make_subplots(rows=1, cols=2, specs=[[{'type':'domain'}, {'type':'domain'}]])\n",
    "fig.add_trace(go.Pie(labels=df2.index, values=df2['count'], textinfo='value+percent'), 1, 1)\n",
    "fig.add_trace(go.Pie(labels=df2.index, values=df2['views'], textinfo='value+percent'), 1, 2)\n",
    "\n",
    "\n",
    "fig.update_traces(hole=.4, hoverinfo=\"label+percent+name\")\n",
    "\n",
    "fig.update_layout(\n",
    "    title_text='Statistiques 2020 par famille de jeu', separators = ', .',\n",
    "    annotations=[dict(text='Articles', x=0.18, y=0.5, font_size=20, showarrow=False),\n",
    "                 dict(text='Vues', x=0.81, y=0.5, font_size=20, showarrow=False)])\n",
    "fig.show()"
   ]
  },
  {
   "cell_type": "code",
   "execution_count": null,
   "metadata": {},
   "outputs": [],
   "source": [
    "df['game2'] = 'Autres jeux'\n",
    "for game in ['Crusader Kings 3', 'Europa Universalis IV', 'Stellaris', 'Medieval II : Total War', 'Hearts of Iron IV', 'Total War : Warhammer II']:\n",
    "    df.loc[df['game'] == game, 'game2'] = game\n",
    "df2 = df.groupby('game2').sum()\n",
    "\n",
    "fig = make_subplots(rows=1, cols=2, specs=[[{'type':'domain'}, {'type':'domain'}]])\n",
    "fig.add_trace(go.Pie(labels=df2.index, values=df2['count'], textinfo='value+percent'), 1, 1)\n",
    "fig.add_trace(go.Pie(labels=df2.index, values=df2['views'], textinfo='value+percent'), 1, 2)\n",
    "\n",
    "\n",
    "fig.update_traces(hole=.4, hoverinfo=\"label+percent+name\")\n",
    "\n",
    "fig.update_layout(\n",
    "    title_text='Statistiques 2020 des jeux à 10 articles ou plus', separators = ', .',\n",
    "    annotations=[dict(text='Articles', x=0.18, y=0.5, font_size=20, showarrow=False),\n",
    "                 dict(text='Vues', x=0.81, y=0.5, font_size=20, showarrow=False)])\n",
    "fig.show()"
   ]
  },
  {
   "cell_type": "markdown",
   "metadata": {},
   "source": [
    "# Views by game"
   ]
  },
  {
   "cell_type": "code",
   "execution_count": null,
   "metadata": {},
   "outputs": [],
   "source": [
    "fig = px.box(df[df['game_type'] == 'Grande Stratégie'], x='game', y='views',\n",
    "             title='Vues des articles 2020 de Grande Stratégie')\n",
    "fig.show()"
   ]
  },
  {
   "cell_type": "code",
   "execution_count": null,
   "metadata": {},
   "outputs": [],
   "source": [
    "fig = px.box(df[df['game_type'] == 'Total War'], x='game', y='views',\n",
    "             title='Vues des articles 2020 de Total War')\n",
    "fig.show()"
   ]
  },
  {
   "cell_type": "code",
   "execution_count": null,
   "metadata": {},
   "outputs": [],
   "source": [
    "fig = px.box(df[df['game_type'] == 'Gestion'], x='game', y='views',\n",
    "             title='Vues des articles 2020 de Gestion')\n",
    "fig.show()"
   ]
  },
  {
   "cell_type": "markdown",
   "metadata": {},
   "source": [
    "# Rédacteurs"
   ]
  },
  {
   "cell_type": "code",
   "execution_count": null,
   "metadata": {},
   "outputs": [],
   "source": [
    "len(df['author'].unique())"
   ]
  },
  {
   "cell_type": "code",
   "execution_count": null,
   "metadata": {},
   "outputs": [],
   "source": [
    "df3 = df.groupby('author').sum()\n",
    "\n",
    "fig = make_subplots(rows=1, cols=2, specs=[[{'type':'domain'}, {'type':'domain'}]])\n",
    "fig.add_trace(go.Pie(labels=df3.index, values=df3['count'], textinfo='value+percent'), 1, 1)\n",
    "fig.add_trace(go.Pie(labels=df3.index, values=df3['views'], textinfo='value+percent'), 1, 2)\n",
    "\n",
    "\n",
    "fig.update_traces(hole=.4, hoverinfo=\"label+percent+name\")\n",
    "\n",
    "fig.update_layout(\n",
    "    title_text='Statistiques 2020 par rédacteur', separators = ', .',\n",
    "    annotations=[dict(text='Articles', x=0.18, y=0.5, font_size=20, showarrow=False),\n",
    "                 dict(text='Vues', x=0.81, y=0.5, font_size=20, showarrow=False)])\n",
    "fig.show()"
   ]
  },
  {
   "cell_type": "code",
   "execution_count": null,
   "metadata": {},
   "outputs": [],
   "source": [
    "fig = px.box(df, x='author', y='views', title='Vues des articles 2020 par rédacteur')\n",
    "fig.show()"
   ]
  },
  {
   "cell_type": "markdown",
   "metadata": {},
   "source": [
    "# Jour"
   ]
  },
  {
   "cell_type": "code",
   "execution_count": null,
   "metadata": {},
   "outputs": [],
   "source": [
    "df['day_of_year'] = df['date'].dt.dayofyear\n",
    "df2 = df.groupby('day_of_year').count()['count']\n",
    "df2 = pd.DataFrame(np.arange(365)).join(df2).fillna(0)\n",
    "fig = px.histogram(df2, x='count')\n",
    "fig.update_xaxes(title_text='Nombre d\\'articles dans la journée')\n",
    "fig.update_xaxes(title_text='Nombre de jours')\n",
    "fig.update_layout(title=dict(text='Histogramme du nombre d\\'articles par jours'))"
   ]
  },
  {
   "cell_type": "code",
   "execution_count": null,
   "metadata": {},
   "outputs": [],
   "source": [
    "df[df['day_of_year'] == df2[df2['count'] == df2['count'].max()][0].values[0]]"
   ]
  },
  {
   "cell_type": "markdown",
   "metadata": {},
   "source": [
    "# 2017- 2020"
   ]
  },
  {
   "cell_type": "code",
   "execution_count": null,
   "metadata": {},
   "outputs": [],
   "source": [
    "all_df = pd.read_csv(os.path.join('..', 'mundus', 'data', 'mundus_article_2017_2020.csv'), encoding='ISO-8859-1')\n",
    "all_df['date'] = pd.to_datetime(all_df['date'])\n",
    "all_df.sort_values('views', ascending=False, inplace=True)\n",
    "all_df.fillna('Divers', inplace=True)\n",
    "all_df['count'] = 1\n",
    "all_df.head(50)[['author', 'date', 'title', 'views']]"
   ]
  }
 ],
 "metadata": {
  "kernelspec": {
   "display_name": "Python 3",
   "language": "python",
   "name": "python3"
  },
  "language_info": {
   "codemirror_mode": {
    "name": "ipython",
    "version": 3
   },
   "file_extension": ".py",
   "mimetype": "text/x-python",
   "name": "python",
   "nbconvert_exporter": "python",
   "pygments_lexer": "ipython3",
   "version": "3.9.0"
  }
 },
 "nbformat": 4,
 "nbformat_minor": 4
}
