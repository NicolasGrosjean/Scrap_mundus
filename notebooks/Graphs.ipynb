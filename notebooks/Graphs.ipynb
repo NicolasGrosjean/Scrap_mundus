{
 "cells": [
  {
   "cell_type": "code",
   "execution_count": null,
   "metadata": {},
   "outputs": [],
   "source": [
    "import numpy as np\n",
    "import os\n",
    "import pandas as pd\n",
    "import plotly.express as px\n",
    "import plotly.graph_objects as go\n",
    "from plotly.subplots import make_subplots"
   ]
  },
  {
   "cell_type": "code",
   "execution_count": null,
   "metadata": {},
   "outputs": [],
   "source": [
    "# year = '2020'\n",
    "# encoding='ISO-8859-1'"
   ]
  },
  {
   "cell_type": "code",
   "execution_count": null,
   "metadata": {},
   "outputs": [],
   "source": [
    "year = '2021'\n",
    "encoding = 'UTF-8'"
   ]
  },
  {
   "cell_type": "code",
   "execution_count": null,
   "metadata": {},
   "outputs": [],
   "source": [
    "pd.read_csv(os.path.join('..', 'mundus', 'data', f'mundus_article_{year}.csv'), sep=';', encoding=encoding).head()"
   ]
  },
  {
   "cell_type": "code",
   "execution_count": null,
   "metadata": {},
   "outputs": [],
   "source": [
    "df = pd.read_csv(os.path.join('..', 'mundus', 'data', f'mundus_article_{year}.csv'), sep=';', encoding=encoding)\n",
    "df['date'] = pd.to_datetime(df['date'])\n",
    "df.sort_values('views', ascending=False, inplace=True)\n",
    "df.fillna('Divers', inplace=True)\n",
    "df['count'] = 1\n",
    "df.head()"
   ]
  },
  {
   "cell_type": "code",
   "execution_count": null,
   "metadata": {},
   "outputs": [],
   "source": [
    "len(df)"
   ]
  },
  {
   "cell_type": "markdown",
   "metadata": {},
   "source": [
    "# Jeu"
   ]
  },
  {
   "cell_type": "code",
   "execution_count": null,
   "metadata": {},
   "outputs": [],
   "source": [
    "len(df['game'].unique())"
   ]
  },
  {
   "cell_type": "code",
   "execution_count": null,
   "metadata": {},
   "outputs": [],
   "source": [
    "df2 = df.groupby('game_type').sum()\n",
    "\n",
    "fig = make_subplots(rows=1, cols=2, specs=[[{'type':'domain'}, {'type':'domain'}]])\n",
    "fig.add_trace(go.Pie(labels=df2.index, values=df2['count'], textinfo='value+percent'), 1, 1)\n",
    "fig.add_trace(go.Pie(labels=df2.index, values=df2['views'], textinfo='value+percent'), 1, 2)\n",
    "\n",
    "\n",
    "fig.update_traces(hole=.4, hoverinfo=\"label+percent+name\")\n",
    "\n",
    "fig.update_layout(\n",
    "    title_text=f'Statistiques {year} par famille de jeu', separators = ', .',\n",
    "    annotations=[dict(text='Articles', x=0.18, y=0.5, font_size=20, showarrow=False),\n",
    "                 dict(text='Vues', x=0.81, y=0.5, font_size=20, showarrow=False)])\n",
    "fig.show()"
   ]
  },
  {
   "cell_type": "code",
   "execution_count": null,
   "metadata": {},
   "outputs": [],
   "source": [
    "min_post_nb = 15\n",
    "df['game2'] = 'Autres jeux'\n",
    "post_nb_by_game = df.groupby('game').count()\n",
    "popular_games = post_nb_by_game.index[(post_nb_by_game >= min_post_nb).transpose().any()]\n",
    "for game in popular_games:\n",
    "    df.loc[df['game'] == game, 'game2'] = game\n",
    "df2 = df.groupby('game2').sum()\n",
    "\n",
    "fig = make_subplots(rows=1, cols=2, specs=[[{'type':'domain'}, {'type':'domain'}]])\n",
    "fig.add_trace(go.Pie(labels=df2.index, values=df2['count'], textinfo='value+percent'), 1, 1)\n",
    "fig.add_trace(go.Pie(labels=df2.index, values=df2['views'], textinfo='value+percent'), 1, 2)\n",
    "\n",
    "\n",
    "fig.update_traces(hole=.4, hoverinfo=\"label+percent+name\")\n",
    "\n",
    "fig.update_layout(\n",
    "    title_text=f'Statistiques {year} des jeux à {min_post_nb} articles ou plus', separators = ', .',\n",
    "    annotations=[dict(text='Articles', x=0.18, y=0.5, font_size=20, showarrow=False),\n",
    "                 dict(text='Vues', x=0.81, y=0.5, font_size=20, showarrow=False)])\n",
    "fig.show()"
   ]
  },
  {
   "cell_type": "markdown",
   "metadata": {},
   "source": [
    "# Views by game"
   ]
  },
  {
   "cell_type": "code",
   "execution_count": null,
   "metadata": {},
   "outputs": [],
   "source": [
    "fig = px.box(df[df['game_type'] == 'Grande Stratégie'], x='game', y='views',\n",
    "             title=f'Vues des articles {year} de Grande Stratégie')\n",
    "fig.show()"
   ]
  },
  {
   "cell_type": "code",
   "execution_count": null,
   "metadata": {},
   "outputs": [],
   "source": [
    "fig = px.box(df[df['game_type'] == 'Total War'], x='game', y='views',\n",
    "             title=f'Vues des articles {year} de Total War')\n",
    "fig.show()"
   ]
  },
  {
   "cell_type": "code",
   "execution_count": null,
   "metadata": {},
   "outputs": [],
   "source": [
    "article_by_game = df.groupby('game').count()\n",
    "df_2_or_more_games = df[df['game'].isin(article_by_game.index[(article_by_game > 2).transpose().any()])]\n",
    "fig = px.box(df_2_or_more_games[df_2_or_more_games['game_type'] == 'Gestion'], x='game', y='views',\n",
    "             title=f'Vues des articles {year} de Gestion (jeux avec au moins 3 articles)')\n",
    "fig.show()"
   ]
  },
  {
   "cell_type": "markdown",
   "metadata": {},
   "source": [
    "# Rédacteurs"
   ]
  },
  {
   "cell_type": "code",
   "execution_count": null,
   "metadata": {},
   "outputs": [],
   "source": [
    "len(df['author'].unique())"
   ]
  },
  {
   "cell_type": "code",
   "execution_count": null,
   "metadata": {},
   "outputs": [],
   "source": [
    "df3 = df.groupby('author').sum()\n",
    "\n",
    "fig = make_subplots(rows=1, cols=2, specs=[[{'type':'domain'}, {'type':'domain'}]])\n",
    "fig.add_trace(go.Pie(labels=df3.index, values=df3['count'], textinfo='value+percent'), 1, 1)\n",
    "fig.add_trace(go.Pie(labels=df3.index, values=df3['views'], textinfo='value+percent'), 1, 2)\n",
    "\n",
    "\n",
    "fig.update_traces(hole=.4, hoverinfo=\"label+percent+name\")\n",
    "\n",
    "fig.update_layout(\n",
    "    title_text=f'Statistiques {year} par rédacteur', separators = ', .',\n",
    "    annotations=[dict(text='Articles', x=0.18, y=0.5, font_size=20, showarrow=False),\n",
    "                 dict(text='Vues', x=0.81, y=0.5, font_size=20, showarrow=False)])\n",
    "fig.show()"
   ]
  },
  {
   "cell_type": "code",
   "execution_count": null,
   "metadata": {},
   "outputs": [],
   "source": [
    "fig = px.box(df, x='author', y='views', title=f'Vues des articles {year} par rédacteur')\n",
    "fig.show()"
   ]
  },
  {
   "cell_type": "markdown",
   "metadata": {},
   "source": [
    "# Jour"
   ]
  },
  {
   "cell_type": "code",
   "execution_count": null,
   "metadata": {},
   "outputs": [],
   "source": [
    "df['day_of_year'] = df['date'].dt.dayofyear\n",
    "df2 = df.groupby('day_of_year').count()['count']\n",
    "df2 = pd.DataFrame(np.arange(365)).join(df2).fillna(0)\n",
    "fig = px.histogram(df2, x='count')\n",
    "fig.update_xaxes(title_text='Nombre d\\'articles dans la journée')\n",
    "fig.update_xaxes(title_text='Nombre de jours')\n",
    "fig.update_layout(title=dict(text='Histogramme du nombre d\\'articles par jours'))"
   ]
  },
  {
   "cell_type": "code",
   "execution_count": null,
   "metadata": {},
   "outputs": [],
   "source": [
    "df[df['day_of_year'] == df2[df2['count'] == df2['count'].max()][0].values[0]]"
   ]
  },
  {
   "cell_type": "markdown",
   "metadata": {},
   "source": [
    "# Year comparison"
   ]
  },
  {
   "cell_type": "code",
   "execution_count": null,
   "metadata": {},
   "outputs": [],
   "source": [
    "prev_year = '2020'\n",
    "prev_encoding = 'ISO-8859-1'"
   ]
  },
  {
   "cell_type": "code",
   "execution_count": null,
   "metadata": {},
   "outputs": [],
   "source": [
    "prev_df = pd.read_csv(os.path.join('..', 'mundus', 'data', f'mundus_article_{prev_year}.csv'),\n",
    "                      sep=';', encoding=prev_encoding)\n",
    "prev_df['date'] = pd.to_datetime(prev_df['date'])\n",
    "prev_df.sort_values('views', ascending=False, inplace=True)\n",
    "prev_df.fillna('Divers', inplace=True)\n",
    "prev_df['count'] = 1\n",
    "prev_df.head()"
   ]
  },
  {
   "cell_type": "code",
   "execution_count": null,
   "metadata": {},
   "outputs": [],
   "source": [
    "prev_sum = prev_df.groupby('game').sum()\n",
    "prev_sum['year'] = prev_year\n",
    "prev_sum.sort_values('views', ascending=False).head()"
   ]
  },
  {
   "cell_type": "code",
   "execution_count": null,
   "metadata": {},
   "outputs": [],
   "source": [
    "current_sum = df.groupby('game').sum()\n",
    "current_sum['year'] = year\n",
    "del current_sum['day_of_year']\n",
    "current_sum.sort_values('views', ascending=False).head(10)"
   ]
  },
  {
   "cell_type": "code",
   "execution_count": null,
   "metadata": {},
   "outputs": [],
   "source": [
    "all_sum = pd.concat((prev_sum, current_sum))\n",
    "all_sum.reset_index(inplace=True)\n",
    "all_sum"
   ]
  },
  {
   "cell_type": "code",
   "execution_count": null,
   "metadata": {},
   "outputs": [],
   "source": [
    "# Sort according current best views\n",
    "current_most_views_game = current_sum.sort_values('views', ascending=False).head(10).index.values\n",
    "df_to_plot = pd.DataFrame()\n",
    "for game in current_most_views_game:\n",
    "    game_stats = all_sum[all_sum['game'] == game]\n",
    "    if len(game_stats) == 1:\n",
    "        game_stats = pd.concat((pd.DataFrame(data=[(game, 0, 0, prev_year)],\n",
    "                                             columns=game_stats.columns), game_stats), axis=0, ignore_index=True)\n",
    "    df_to_plot = pd.concat((df_to_plot, game_stats))\n",
    "\n",
    "# Add total\n",
    "df_to_plot = pd.concat((df_to_plot, pd.DataFrame(data=[('TOTAL', prev_df['views'].sum(), 0, prev_year)],\n",
    "                                                 columns=game_stats.columns)), axis=0, ignore_index=True)\n",
    "df_to_plot = pd.concat((df_to_plot, pd.DataFrame(data=[('TOTAL', df['views'].sum(), 0, year)],\n",
    "                                                 columns=game_stats.columns)), axis=0, ignore_index=True)\n",
    "\n",
    "# Plot\n",
    "fig = px.histogram(df_to_plot, x=\"game\", y=\"views\", color='year', barmode='group',\n",
    "                   title=f'Evolution du nombre de vues par jeu (top 10 de {year} et total)')\n",
    "fig.update_xaxes(title_text='Jeu ou Divers')\n",
    "fig.update_yaxes(title_text='Nombre de vues')\n",
    "fig.show()"
   ]
  },
  {
   "cell_type": "code",
   "execution_count": null,
   "metadata": {},
   "outputs": [],
   "source": [
    "# Sort according prev best views\n",
    "current_most_views_game = prev_sum.sort_values('views', ascending=False).head(10).index.values\n",
    "df_to_plot = pd.DataFrame()\n",
    "for game in current_most_views_game:\n",
    "    game_stats = all_sum[all_sum['game'] == game]\n",
    "    if len(game_stats) == 1:\n",
    "        game_stats = pd.concat((game_stats, pd.DataFrame(data=[(game, 0, 0, year)],\n",
    "                                             columns=game_stats.columns)), axis=0, ignore_index=True)\n",
    "    df_to_plot = pd.concat((df_to_plot, game_stats))\n",
    "\n",
    "# Add total\n",
    "df_to_plot = pd.concat((df_to_plot, pd.DataFrame(data=[('TOTAL', prev_df['views'].sum(), 0, prev_year)],\n",
    "                                                 columns=game_stats.columns)), axis=0, ignore_index=True)\n",
    "df_to_plot = pd.concat((df_to_plot, pd.DataFrame(data=[('TOTAL', df['views'].sum(), 0, year)],\n",
    "                                                 columns=game_stats.columns)), axis=0, ignore_index=True)\n",
    "\n",
    "# Plot\n",
    "fig = px.histogram(df_to_plot, x=\"game\", y=\"views\", color='year', barmode='group',\n",
    "                   title=f'Evolution du nombre de vues par jeu (top 10 de {prev_year} et total)')\n",
    "fig.update_xaxes(title_text='Jeu ou Divers')\n",
    "fig.update_yaxes(title_text='Nombre de vues')\n",
    "fig.show()"
   ]
  },
  {
   "cell_type": "code",
   "execution_count": null,
   "metadata": {},
   "outputs": [],
   "source": [
    "# Sort according current best posts\n",
    "current_most_posts_game = current_sum.sort_values('count', ascending=False).head(10).index.values\n",
    "df_to_plot = pd.DataFrame()\n",
    "for game in current_most_posts_game:\n",
    "    game_stats = all_sum[all_sum['game'] == game]\n",
    "    if len(game_stats) == 1:\n",
    "        game_stats = pd.concat((pd.DataFrame(data=[(game, 0, 0, prev_year)],\n",
    "                                             columns=game_stats.columns), game_stats), axis=0, ignore_index=True)\n",
    "    df_to_plot = pd.concat((df_to_plot, game_stats))\n",
    "\n",
    "# Add total\n",
    "df_to_plot = pd.concat((df_to_plot, pd.DataFrame(data=[('TOTAL', 0, prev_df['count'].sum(), prev_year)],\n",
    "                                                 columns=game_stats.columns)), axis=0, ignore_index=True)\n",
    "df_to_plot = pd.concat((df_to_plot, pd.DataFrame(data=[('TOTAL', 0, df['count'].sum(), year)],\n",
    "                                                 columns=game_stats.columns)), axis=0, ignore_index=True)\n",
    "\n",
    "# Plot\n",
    "fig = px.histogram(df_to_plot, x=\"game\", y=\"count\", color='year', barmode='group',\n",
    "                   title=f'Evolution du nombre d\\'articles par jeu (top 10 de {year} et total)')\n",
    "fig.update_xaxes(title_text='Jeu ou Divers')\n",
    "fig.update_yaxes(title_text='Nombre d\\'articles')\n",
    "fig.show()"
   ]
  },
  {
   "cell_type": "code",
   "execution_count": null,
   "metadata": {},
   "outputs": [],
   "source": [
    "# Sort according prev best posts\n",
    "current_most_posts_game = prev_sum.sort_values('count', ascending=False).head(10).index.values\n",
    "df_to_plot = pd.DataFrame()\n",
    "for game in current_most_posts_game:\n",
    "    game_stats = all_sum[all_sum['game'] == game]\n",
    "    if len(game_stats) == 1:\n",
    "        game_stats = pd.concat((game_stats, pd.DataFrame(data=[(game, 0, 0, year)],\n",
    "                                             columns=game_stats.columns)), axis=0, ignore_index=True)\n",
    "    df_to_plot = pd.concat((df_to_plot, game_stats))\n",
    "\n",
    "# Add total\n",
    "df_to_plot = pd.concat((df_to_plot, pd.DataFrame(data=[('TOTAL', 0, prev_df['count'].sum(), prev_year)],\n",
    "                                                 columns=game_stats.columns)), axis=0, ignore_index=True)\n",
    "df_to_plot = pd.concat((df_to_plot, pd.DataFrame(data=[('TOTAL', 0, df['count'].sum(), year)],\n",
    "                                                 columns=game_stats.columns)), axis=0, ignore_index=True)\n",
    "\n",
    "# Plot\n",
    "fig = px.histogram(df_to_plot, x=\"game\", y=\"count\", color='year', barmode='group',\n",
    "                   title=f'Evolution du nombre d\\'articles par jeu (top 10 de {prev_year} et total)')\n",
    "fig.update_xaxes(title_text='Jeu ou Divers')\n",
    "fig.update_yaxes(title_text='Nombre d\\'articles')\n",
    "fig.show()"
   ]
  },
  {
   "cell_type": "code",
   "execution_count": null,
   "metadata": {},
   "outputs": [],
   "source": [
    "merge_sum = current_sum[['views', 'count']].join(prev_sum[['views', 'count']], how='inner', lsuffix=year, rsuffix=prev_year)\n",
    "merge_sum['delta_views'] = merge_sum[f'views{year}'] - merge_sum[f'views{prev_year}']\n",
    "merge_sum.sort_values('delta_views', ascending=False).head(10)"
   ]
  },
  {
   "cell_type": "markdown",
   "metadata": {},
   "source": [
    "# 2017- X"
   ]
  },
  {
   "cell_type": "code",
   "execution_count": null,
   "metadata": {},
   "outputs": [],
   "source": [
    "prev_all_df = pd.read_csv(os.path.join('..', 'mundus', 'data', f'mundus_article_2017_{prev_year}.csv'), encoding='ISO-8859-1')\n",
    "prev_all_df['date'] = pd.to_datetime(prev_all_df['date'])\n",
    "prev_all_df.sort_values('views', ascending=False, inplace=True)\n",
    "prev_all_df['views'].fillna(0, inplace=True)\n",
    "prev_all_df.fillna('Divers', inplace=True)\n",
    "prev_all_df.head()[['author', 'date', 'title', 'views']]"
   ]
  },
  {
   "cell_type": "code",
   "execution_count": null,
   "metadata": {},
   "outputs": [],
   "source": [
    "all_df = pd.read_csv(os.path.join('..', 'mundus', 'data', f'mundus_article_2017_{year}.csv'), encoding=encoding, sep=';')\n",
    "all_df['date'] = pd.to_datetime(all_df['date'])\n",
    "all_df.sort_values('views', ascending=False, inplace=True)\n",
    "all_df['views'].fillna(0, inplace=True)\n",
    "all_df.fillna('Divers', inplace=True)\n",
    "all_df.head()[['author', 'date', 'title', 'views']]"
   ]
  },
  {
   "cell_type": "code",
   "execution_count": null,
   "metadata": {},
   "outputs": [],
   "source": [
    "all_merge = pd.merge(all_df[['author', 'date', 'title', 'views']],\n",
    "                     prev_all_df[['author', 'date', 'title', 'views']],\n",
    "                     on=['author', 'date', 'title'])\n",
    "all_merge['delta'] = all_merge['views_x'] - all_merge['views_y']\n",
    "all_merge.head()"
   ]
  },
  {
   "cell_type": "code",
   "execution_count": null,
   "metadata": {},
   "outputs": [],
   "source": [
    "all_merge.sort_values('delta', ascending=False).head(10)"
   ]
  }
 ],
 "metadata": {
  "kernelspec": {
   "display_name": "Python 3 (ipykernel)",
   "language": "python",
   "name": "python3"
  },
  "language_info": {
   "codemirror_mode": {
    "name": "ipython",
    "version": 3
   },
   "file_extension": ".py",
   "mimetype": "text/x-python",
   "name": "python",
   "nbconvert_exporter": "python",
   "pygments_lexer": "ipython3"
  }
 },
 "nbformat": 4,
 "nbformat_minor": 4
}
